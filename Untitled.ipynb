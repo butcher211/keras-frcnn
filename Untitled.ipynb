{
 "cells": [
  {
   "cell_type": "code",
   "execution_count": 7,
   "metadata": {},
   "outputs": [],
   "source": [
    "from keras import backend as K"
   ]
  },
  {
   "cell_type": "code",
   "execution_count": 5,
   "metadata": {},
   "outputs": [],
   "source": [
    "from keras_frcnn import config\n",
    "C = config.Config()"
   ]
  },
  {
   "cell_type": "code",
   "execution_count": 6,
   "metadata": {},
   "outputs": [],
   "source": [
    "from keras_frcnn import resnet as nn"
   ]
  },
  {
   "cell_type": "code",
   "execution_count": 3,
   "metadata": {},
   "outputs": [
    {
     "name": "stdout",
     "output_type": "stream",
     "text": [
      "Parsing annotation files\n",
      "Parsing zuende.\n"
     ]
    }
   ],
   "source": [
    "import cv2\n",
    "\n",
    "def get_data(input_path):\n",
    "\tfound_bg = False\n",
    "\tall_imgs = {}\n",
    "\n",
    "\tclasses_count = {}\n",
    "\n",
    "\tclass_mapping = {}\n",
    "\n",
    "\tvisualise = True\n",
    "\t\n",
    "\twith open(input_path,'r') as f:\n",
    "\n",
    "\t\tprint('Parsing annotation files')\n",
    "\n",
    "\t\tfor line in f:\n",
    "\t\t\tline_split = line.strip().split(',')\n",
    "\t\t\t(filename,x1,y1,x2,y2,class_name) = line_split\n",
    "\n",
    "\t\t\tif class_name not in classes_count:\n",
    "\t\t\t\tclasses_count[class_name] = 1\n",
    "\t\t\telse:\n",
    "\t\t\t\tclasses_count[class_name] += 1\n",
    "\n",
    "\t\t\tif class_name not in class_mapping:\n",
    "\t\t\t\tif class_name == 'bg' and found_bg == False:\n",
    "\t\t\t\t\tprint('Found class name with special name bg. Will be treated as a background region (this is usually for hard negative mining).')\n",
    "\t\t\t\t\tfound_bg = True\n",
    "\t\t\t\tclass_mapping[class_name] = len(class_mapping)\n",
    "\n",
    "\t\t\tif filename not in all_imgs:\n",
    "\t\t\t\tall_imgs[filename] = {}\n",
    "\t\t\t\t\n",
    "\t\t\t\timg = cv2.imread(filename)\n",
    "\t\t\t\t(rows,cols) = img.shape[:2]\n",
    "\t\t\t\tall_imgs[filename]['filepath'] = filename\n",
    "\t\t\t\tall_imgs[filename]['width'] = cols\n",
    "\t\t\t\tall_imgs[filename]['height'] = rows\n",
    "\t\t\t\tall_imgs[filename]['bboxes'] = []\n",
    "\t\t\t\t#if np.random.randint(0,6) > 0:\n",
    "\t\t\t\tall_imgs[filename]['imageset'] = 'trainval'\n",
    "\t\t\t\t#else:\n",
    "\t\t\t\t#all_imgs[filename]['imageset'] = 'test'\n",
    "\n",
    "\t\t\tall_imgs[filename]['bboxes'].append({'class': class_name, 'x1': int(x1), 'x2': int(x2), 'y1': int(y1), 'y2': int(y2)})\n",
    "\n",
    "\n",
    "\t\tall_data = []\n",
    "\t\tfor key in all_imgs:\n",
    "\t\t\tall_data.append(all_imgs[key])\n",
    "\t\t\n",
    "\t\t# make sure the bg class is last in the list\n",
    "\t\tif found_bg:\n",
    "\t\t\tif class_mapping['bg'] != len(class_mapping) - 1:\n",
    "\t\t\t\tkey_to_switch = [key for key in class_mapping.keys() if class_mapping[key] == len(class_mapping)-1][0]\n",
    "\t\t\t\tval_to_switch = class_mapping['bg']\n",
    "\t\t\t\tclass_mapping['bg'] = len(class_mapping) - 1\n",
    "\t\t\t\tclass_mapping[key_to_switch] = val_to_switch\n",
    "\t\t\n",
    "\t\treturn all_data, classes_count, class_mapping\n",
    "\n",
    "all_imgs, classes_count, class_mapping = get_data('annotate-fp-mappen-valid.txt')\n",
    "print(\"Parsing zuende.\")"
   ]
  },
  {
   "cell_type": "code",
   "execution_count": null,
   "metadata": {},
   "outputs": [],
   "source": [
    "from keras_frcnn import data_generators\n",
    "data_gen_train = data_generators.get_anchor_gt(train_imgs, classes_count, C, nn.get_img_output_length, K.image_dim_ordering(), mode='train')"
   ]
  }
 ],
 "metadata": {
  "kernelspec": {
   "display_name": "Python 3",
   "language": "python",
   "name": "python3"
  },
  "language_info": {
   "codemirror_mode": {
    "name": "ipython",
    "version": 3
   },
   "file_extension": ".py",
   "mimetype": "text/x-python",
   "name": "python",
   "nbconvert_exporter": "python",
   "pygments_lexer": "ipython3",
   "version": "3.6.9"
  }
 },
 "nbformat": 4,
 "nbformat_minor": 2
}
